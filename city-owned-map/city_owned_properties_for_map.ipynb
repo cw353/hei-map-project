{
 "cells": [
  {
   "cell_type": "code",
   "execution_count": 1,
   "id": "ca7f9217",
   "metadata": {},
   "outputs": [],
   "source": [
    "import numpy as np\n",
    "import pandas as pd\n",
    "import re"
   ]
  },
  {
   "cell_type": "code",
   "execution_count": 2,
   "id": "d75ae5a9",
   "metadata": {},
   "outputs": [],
   "source": [
    "# date accessed: June 14, 2022 (last updated: June 13, 2022)\n",
    "city_owned = pd.read_json(\"https://data.cityofchicago.org/resource/aksk-kvfp.json?$limit=100000\")"
   ]
  },
  {
   "cell_type": "code",
   "execution_count": 3,
   "id": "9e1b4e14",
   "metadata": {},
   "outputs": [],
   "source": [
    "def standardize_columns(df):\n",
    "    \"\"\"standardize the names of all columns in df by making them lowercase and snake_case\"\"\"\n",
    "    df.columns = df.columns.str.lower().str.split().str.join('_')\n",
    "\n",
    "standardize_columns(city_owned)"
   ]
  },
  {
   "cell_type": "code",
   "execution_count": 4,
   "id": "f3d82696",
   "metadata": {},
   "outputs": [],
   "source": [
    "city_owned_current = city_owned[city_owned['property_status'].str.casefold() == \"owned by city\"]"
   ]
  },
  {
   "cell_type": "code",
   "execution_count": 5,
   "id": "0682afa7",
   "metadata": {
    "scrolled": true
   },
   "outputs": [
    {
     "data": {
      "text/html": [
       "<div>\n",
       "<style scoped>\n",
       "    .dataframe tbody tr th:only-of-type {\n",
       "        vertical-align: middle;\n",
       "    }\n",
       "\n",
       "    .dataframe tbody tr th {\n",
       "        vertical-align: top;\n",
       "    }\n",
       "\n",
       "    .dataframe thead th {\n",
       "        text-align: right;\n",
       "    }\n",
       "</style>\n",
       "<table border=\"1\" class=\"dataframe\">\n",
       "  <thead>\n",
       "    <tr style=\"text-align: right;\">\n",
       "      <th></th>\n",
       "      <th>id</th>\n",
       "      <th>pin</th>\n",
       "      <th>address</th>\n",
       "      <th>managing_organization</th>\n",
       "      <th>property_status</th>\n",
       "      <th>sq_ft</th>\n",
       "      <th>ward</th>\n",
       "      <th>community_area_number</th>\n",
       "      <th>community_area_name</th>\n",
       "      <th>zoning_classification</th>\n",
       "      <th>...</th>\n",
       "      <th>longitude</th>\n",
       "      <th>location</th>\n",
       "      <th>:@computed_region_rpca_8um6</th>\n",
       "      <th>:@computed_region_vrxf_vc4k</th>\n",
       "      <th>:@computed_region_6mkv_f3dw</th>\n",
       "      <th>:@computed_region_bdys_3d7i</th>\n",
       "      <th>:@computed_region_43wa_7qmu</th>\n",
       "      <th>:@computed_region_awaf_s7ux</th>\n",
       "      <th>date_of_acquisition</th>\n",
       "      <th>date_of_disposition</th>\n",
       "    </tr>\n",
       "  </thead>\n",
       "  <tbody>\n",
       "  </tbody>\n",
       "</table>\n",
       "<p>0 rows × 25 columns</p>\n",
       "</div>"
      ],
      "text/plain": [
       "Empty DataFrame\n",
       "Columns: [id, pin, address, managing_organization, property_status, sq_ft, ward, community_area_number, community_area_name, zoning_classification, zip_code, last_update, x_coordinate, y_coordinate, latitude, longitude, location, :@computed_region_rpca_8um6, :@computed_region_vrxf_vc4k, :@computed_region_6mkv_f3dw, :@computed_region_bdys_3d7i, :@computed_region_43wa_7qmu, :@computed_region_awaf_s7ux, date_of_acquisition, date_of_disposition]\n",
       "Index: []\n",
       "\n",
       "[0 rows x 25 columns]"
      ]
     },
     "execution_count": 5,
     "metadata": {},
     "output_type": "execute_result"
    }
   ],
   "source": [
    "# find indices of all PINs that contain characters other than \n",
    "indices_to_fix = city_owned_current[city_owned_current['pin'].str.contains(r'[^\\d-]')].index.values\n",
    "city_owned_current.loc[indices_to_fix]"
   ]
  },
  {
   "cell_type": "code",
   "execution_count": 7,
   "id": "1df7af85",
   "metadata": {},
   "outputs": [
    {
     "name": "stderr",
     "output_type": "stream",
     "text": [
      "/var/folders/7b/cxqkjv5514q19434nrk5rx0r0000gp/T/ipykernel_1773/1989853571.py:1: SettingWithCopyWarning: \n",
      "A value is trying to be set on a copy of a slice from a DataFrame.\n",
      "Try using .loc[row_indexer,col_indexer] = value instead\n",
      "\n",
      "See the caveats in the documentation: https://pandas.pydata.org/pandas-docs/stable/user_guide/indexing.html#returning-a-view-versus-a-copy\n",
      "  city_owned_current['pin'] = city_owned_current['pin'].str.replace('-','').apply(int)\n"
     ]
    }
   ],
   "source": [
    "city_owned_current['pin'] = city_owned_current['pin'].str.replace('-','').apply(int)"
   ]
  },
  {
   "cell_type": "code",
   "execution_count": 8,
   "id": "ac1c6719",
   "metadata": {},
   "outputs": [],
   "source": [
    "properties = pd.read_csv(\"Assessor__Archived_05-11-2022__-_Property_Locations.csv\")"
   ]
  },
  {
   "cell_type": "code",
   "execution_count": 9,
   "id": "1aed9586",
   "metadata": {},
   "outputs": [],
   "source": [
    "assert city_owned_current['pin'].shape == city_owned_current['pin'].unique().shape\n",
    "assert properties['pin'].shape == properties['pin'].unique().shape"
   ]
  },
  {
   "cell_type": "code",
   "execution_count": 10,
   "id": "68bbdf84",
   "metadata": {},
   "outputs": [],
   "source": [
    "merge = pd.merge(city_owned_current, properties, how=\"left\", on=\"pin\", suffixes=[\"_aksk-kvfp\",\"_c49d-89sn\"])"
   ]
  },
  {
   "cell_type": "code",
   "execution_count": 11,
   "id": "c56b9b7b",
   "metadata": {},
   "outputs": [],
   "source": [
    "wip = merge.filter(items=[\n",
    "    'pin',\n",
    "    'id',\n",
    "    'address',\n",
    "    'property_address',\n",
    "    'managing_organization',\n",
    "    'sq_ft',\n",
    "    'ward_aksk-kvfp',\n",
    "    'ward_c49d-89sn',\n",
    "    'zip_code',\n",
    "    'property_zip',\n",
    "    'last_update',\n",
    "    'latitude_aksk-kvfp',\n",
    "    'longitude_aksk-kvfp',\n",
    "    'latitude_c49d-89sn',\n",
    "    'longitude_c49d-89sn',\n",
    "    'date_of_acquisition',\n",
    "    'date_of_disposition',\n",
    "]).rename(columns = {\n",
    "    'address' : 'address_aksk-kvfp',\n",
    "    'property_address' : 'address_c49d-89sn',\n",
    "    'zip_code' : 'zipcode_aksk-kvfp',\n",
    "    'property_zip' : 'zipcode_c49d-89sn',\n",
    "})"
   ]
  },
  {
   "cell_type": "code",
   "execution_count": 12,
   "id": "38014a49",
   "metadata": {},
   "outputs": [],
   "source": [
    "wip['zipcode_c49d-89sn'] = wip['zipcode_c49d-89sn'].str.split('-').str.get(0).apply(float)"
   ]
  },
  {
   "cell_type": "code",
   "execution_count": 17,
   "id": "87f719db",
   "metadata": {},
   "outputs": [],
   "source": [
    "wip['address_match'] = (wip['address_aksk-kvfp'] == wip['address_c49d-89sn'])\n",
    "wip['ward_match'] = (wip['ward_aksk-kvfp'] == wip['ward_c49d-89sn'])\n",
    "wip['zipcode_match'] = (wip['zipcode_aksk-kvfp'] == wip['zipcode_c49d-89sn'])"
   ]
  },
  {
   "cell_type": "code",
   "execution_count": 17,
   "id": "3b93b6e9",
   "metadata": {},
   "outputs": [
    {
     "data": {
      "text/plain": [
       "pin                        int64\n",
       "id                         int64\n",
       "address_aksk-kvfp         object\n",
       "address_c49d-89sn         object\n",
       "managing_organization     object\n",
       "sq_ft                    float64\n",
       "ward_aksk-kvfp           float64\n",
       "ward_c49d-89sn           float64\n",
       "zipcode_aksk-kvfp        float64\n",
       "zipcode_c49d-89sn        float64\n",
       "last_update               object\n",
       "latitude_aksk-kvfp       float64\n",
       "longitude_aksk-kvfp      float64\n",
       "latitude_c49d-89sn       float64\n",
       "longitude_c49d-89sn      float64\n",
       "date_of_acquisition       object\n",
       "date_of_disposition       object\n",
       "address_match               bool\n",
       "ward_match                  bool\n",
       "zipcode_match               bool\n",
       "dtype: object"
      ]
     },
     "execution_count": 17,
     "metadata": {},
     "output_type": "execute_result"
    }
   ],
   "source": [
    "wip.dtypes"
   ]
  },
  {
   "cell_type": "code",
   "execution_count": 24,
   "id": "6d4c7f99",
   "metadata": {},
   "outputs": [],
   "source": [
    "consider = wip[(wip['zipcode_c49d-89sn'] == 60637) | (wip['ward_c49d-89sn'] == 20)]"
   ]
  },
  {
   "cell_type": "code",
   "execution_count": 19,
   "id": "89f8515c",
   "metadata": {},
   "outputs": [],
   "source": [
    "#mismatch = consider[~consider['address_match']].index.values"
   ]
  },
  {
   "cell_type": "code",
   "execution_count": 26,
   "id": "c6cfa8ed",
   "metadata": {},
   "outputs": [],
   "source": [
    "consider = consider.drop([3]) # index 3 pin is probably mistyped and so should be dropped"
   ]
  },
  {
   "cell_type": "code",
   "execution_count": 25,
   "id": "e4261eb1",
   "metadata": {},
   "outputs": [
    {
     "name": "stdout",
     "output_type": "stream",
     "text": [
      "20151220090000 : 5643 S CALUMET AVE  ==  5827 S INDIANA AVE\n",
      "n\n"
     ]
    }
   ],
   "source": [
    "#for i in mismatch:\n",
    "#    print(consider.loc[i, 'pin'], \":\", consider.loc[i, 'address_aksk-kvfp'], ' == ', consider.loc[i, 'address_c49d-89sn'])\n",
    "#    response = input()\n",
    "#    consider.loc[i, 'address_match_corrected'] = (response.casefold() == 'y') "
   ]
  },
  {
   "cell_type": "code",
   "execution_count": 27,
   "id": "23d8fa19",
   "metadata": {},
   "outputs": [
    {
     "data": {
      "text/plain": [
       "Index(['pin', 'id', 'address_aksk-kvfp', 'address_c49d-89sn',\n",
       "       'managing_organization', 'sq_ft', 'ward_aksk-kvfp', 'ward_c49d-89sn',\n",
       "       'zipcode_aksk-kvfp', 'zipcode_c49d-89sn', 'last_update',\n",
       "       'latitude_aksk-kvfp', 'longitude_aksk-kvfp', 'latitude_c49d-89sn',\n",
       "       'longitude_c49d-89sn', 'date_of_acquisition', 'date_of_disposition',\n",
       "       'address_match', 'ward_match', 'zipcode_match'],\n",
       "      dtype='object')"
      ]
     },
     "execution_count": 27,
     "metadata": {},
     "output_type": "execute_result"
    }
   ],
   "source": [
    "consider.columns"
   ]
  },
  {
   "cell_type": "code",
   "execution_count": 29,
   "id": "72fb92bd",
   "metadata": {},
   "outputs": [],
   "source": [
    "export = consider.filter(items=[\n",
    "    'pin',\n",
    "    'id',\n",
    "    'address_c49d-89sn',\n",
    "    'managing_organization',\n",
    "    'sq_ft',\n",
    "    'ward_c49d-89sn',\n",
    "    'zipcode_c49d-89sn',\n",
    "    'last_update',\n",
    "    'latitude_c49d-89sn',\n",
    "    'longitude_c49d-89sn',\n",
    "    'date_of_acquisition',\n",
    "    'date_of_disposition',\n",
    "]).rename(columns = {\n",
    "    'address_c49d-89sn' : 'address',\n",
    "    'ward_c49d-89sn' : 'ward',\n",
    "    'zipcode_c49d-89sn' : 'zipcode',\n",
    "    'latitude_c49d-89sn' : 'latitude',\n",
    "    'longitude_c49d-89sn' : 'longitude',\n",
    "})"
   ]
  },
  {
   "cell_type": "code",
   "execution_count": 30,
   "id": "e81f8733",
   "metadata": {},
   "outputs": [],
   "source": [
    "export.to_json(\"city_owned_properties_for_map_3.json\", orient=\"records\")"
   ]
  },
  {
   "cell_type": "code",
   "execution_count": 31,
   "id": "c0182785",
   "metadata": {},
   "outputs": [],
   "source": [
    "assert export['pin'].shape == export['pin'].unique().shape"
   ]
  },
  {
   "cell_type": "code",
   "execution_count": 32,
   "id": "796dbd64",
   "metadata": {},
   "outputs": [
    {
     "data": {
      "text/plain": [
       "Int64Index([   48,    53,    58,    67,   211,   215,   216,   230,   231,\n",
       "              234,\n",
       "            ...\n",
       "            12647, 12649, 12658, 12678, 12683, 12704, 12716, 12733, 12734,\n",
       "            12737],\n",
       "           dtype='int64', length=1804)"
      ]
     },
     "execution_count": 32,
     "metadata": {},
     "output_type": "execute_result"
    }
   ],
   "source": [
    "export.index"
   ]
  },
  {
   "cell_type": "code",
   "execution_count": null,
   "id": "341d89af",
   "metadata": {},
   "outputs": [],
   "source": []
  }
 ],
 "metadata": {
  "kernelspec": {
   "display_name": "Python 3 (ipykernel)",
   "language": "python",
   "name": "python3"
  },
  "language_info": {
   "codemirror_mode": {
    "name": "ipython",
    "version": 3
   },
   "file_extension": ".py",
   "mimetype": "text/x-python",
   "name": "python",
   "nbconvert_exporter": "python",
   "pygments_lexer": "ipython3",
   "version": "3.8.13"
  }
 },
 "nbformat": 4,
 "nbformat_minor": 5
}
