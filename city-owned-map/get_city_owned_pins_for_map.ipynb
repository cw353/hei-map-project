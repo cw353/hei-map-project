{
 "cells": [
  {
   "cell_type": "code",
   "execution_count": 1,
   "id": "653ea5a6",
   "metadata": {},
   "outputs": [],
   "source": [
    "# Author: Claire Wagner\n",
    "# Date: 15 June 2022\n",
    "# Purpose: To generate data about city-owned PINs that are of interest to HEI because they are in Ward 20 and/or have the zip code 60637 "
   ]
  },
  {
   "cell_type": "code",
   "execution_count": 2,
   "id": "d447d090",
   "metadata": {},
   "outputs": [],
   "source": [
    "import pandas as pd\n",
    "import urllib.parse\n",
    "import datetime"
   ]
  },
  {
   "cell_type": "code",
   "execution_count": 3,
   "id": "6c476c93",
   "metadata": {},
   "outputs": [],
   "source": [
    "def makeAPIRequest(api_endpoint, params, limit, read_function):\n",
    "    \"\"\"Helper function to make Socrata API request.\"\"\"\n",
    "    query = \"?\" + \"&\".join(params) + \"&$limit=\" + str(limit)\n",
    "    return read_function(api_endpoint + urllib.parse.quote(query, safe=\"&?$=,!()\"))"
   ]
  },
  {
   "cell_type": "code",
   "execution_count": 4,
   "id": "9a60d58a",
   "metadata": {},
   "outputs": [],
   "source": [
    "# fetch data from the City-Owned Land Inventory dataset about all properties currently owned and/or leased by the City of Chicago (excluding obsolete PINs)\n",
    "city_owned = makeAPIRequest(\n",
    "    api_endpoint = \"https://data.cityofchicago.org/resource/aksk-kvfp.json\",\n",
    "    params = [\n",
    "        \"$select=pin, managing_organization, lower(property_status) AS property_status, date_of_acquisition, date_of_disposition, sq_ft, last_update, :created_at, :updated_at\",\n",
    "        \"$where=lower(property_status) in ('owned by city', 'leased') AND lower(managing_organization)!='obsolete pin'\",\n",
    "    ],\n",
    "    limit = 100000,\n",
    "    read_function = pd.read_json,\n",
    ")"
   ]
  },
  {
   "cell_type": "code",
   "execution_count": 5,
   "id": "5d6dc64c",
   "metadata": {},
   "outputs": [],
   "source": [
    "# fetch data from the Property Locations dataset about all properties that have zip code 60637 and/or are located in Ward 20\n",
    "properties = makeAPIRequest(\n",
    "    api_endpoint = \"https://datacatalog.cookcountyil.gov/resource/c49d-89sn.json\",\n",
    "    params = [\n",
    "        \"$select=pin, property_address, property_zip, ward, longitude, latitude, :created_at, :updated_at\",\n",
    "        \"$where=starts_with(property_zip, '60637') OR ward='20'\",\n",
    "    ],\n",
    "    limit = 100000,\n",
    "    read_function = pd.read_json,\n",
    ")"
   ]
  },
  {
   "cell_type": "code",
   "execution_count": 11,
   "id": "f44bb45b",
   "metadata": {},
   "outputs": [],
   "source": [
    "# Generate attribution string that gives the URLs and the access date and time for the data sources.\n",
    "fetchtime = datetime.datetime.now(datetime.timezone.utc).strftime(\"%d %B %Y at roughly %H:%M UTC\")\n",
    "attribution = f\"/* Data sources: https://data.cityofchicago.org/Community-Economic-Development/City-Owned-Land-Inventory/aksk-kvfp and https://datacatalog.cookcountyil.gov/Property-Taxation/Assessor-Archived-05-11-2022-Property-Locations/c49d-89sn, accessed on {fetchtime}. */\""
   ]
  },
  {
   "cell_type": "code",
   "execution_count": 12,
   "id": "47746bde",
   "metadata": {
    "scrolled": true
   },
   "outputs": [],
   "source": [
    "# prepare to compute the inner join of these two datasets by standardizing the PIN format\n",
    "city_owned['pin'] = city_owned['pin'].str.replace('-','') \n",
    "properties['pin'] = properties['pin'].apply(str)"
   ]
  },
  {
   "cell_type": "code",
   "execution_count": 13,
   "id": "3205e44d",
   "metadata": {},
   "outputs": [],
   "source": [
    "# compute the inner join (i.e. find all city-owned properties that have the zip code 60637 and/or are in Ward 20)\n",
    "pins_to_map = pd.merge(city_owned, properties, how=\"inner\", on=\"pin\", suffixes = [\"_aksk-kvfp\", \"_c49d-89sn\"])\n",
    "pins_to_map = pins_to_map.set_index('pin')"
   ]
  },
  {
   "cell_type": "code",
   "execution_count": 14,
   "id": "8a17d1ec",
   "metadata": {},
   "outputs": [],
   "source": [
    "# output data to \"data.js\"\n",
    "with open(\"data.js\", \"w\", encoding=\"utf-8\") as f:\n",
    "    f.write(attribution + \"\\n\") # include attribution\n",
    "    f.write(\"const data = \") # assign JSON data to variable for easier access\n",
    "    f.write(pins_to_map.to_json(orient=\"index\")) # output pins_to_map as JSON"
   ]
  },
  {
   "cell_type": "code",
   "execution_count": null,
   "id": "81da3cc8",
   "metadata": {},
   "outputs": [],
   "source": []
  }
 ],
 "metadata": {
  "kernelspec": {
   "display_name": "Python 3 (ipykernel)",
   "language": "python",
   "name": "python3"
  },
  "language_info": {
   "codemirror_mode": {
    "name": "ipython",
    "version": 3
   },
   "file_extension": ".py",
   "mimetype": "text/x-python",
   "name": "python",
   "nbconvert_exporter": "python",
   "pygments_lexer": "ipython3",
   "version": "3.8.13"
  }
 },
 "nbformat": 4,
 "nbformat_minor": 5
}
