{
 "cells": [
  {
   "cell_type": "code",
   "execution_count": 1,
   "id": "653ea5a6",
   "metadata": {},
   "outputs": [],
   "source": [
    "# Author: Claire Wagner\n",
    "# Date: 15 June 2022\n",
    "# Purpose: To generate data about city-owned PINs."
   ]
  },
  {
   "cell_type": "code",
   "execution_count": 2,
   "id": "d447d090",
   "metadata": {},
   "outputs": [],
   "source": [
    "import pandas as pd\n",
    "import urllib.parse\n",
    "import datetime"
   ]
  },
  {
   "cell_type": "code",
   "execution_count": 3,
   "id": "6c476c93",
   "metadata": {},
   "outputs": [],
   "source": [
    "def makeAPIRequest(api_endpoint, params, limit, read_function):\n",
    "    \"\"\"Helper function to make Socrata API request.\"\"\"\n",
    "    query = \"?\" + \"&\".join(params) + \"&$limit=\" + str(limit)\n",
    "    return read_function(api_endpoint + urllib.parse.quote(query, safe=\"&?$=,!()\"))\n",
    "\n",
    "def getLastUpdated(api_endpoint, read_function):\n",
    "    return makeAPIRequest(\n",
    "        api_endpoint = \"https://data.cityofchicago.org/resource/aksk-kvfp.json\",\n",
    "        params = [ \"$select=max(:updated_at) AS last_updated\" ],\n",
    "        limit = 1,\n",
    "        read_function = pd.read_json,\n",
    "    ).loc[0, \"last_updated\"]"
   ]
  },
  {
   "cell_type": "code",
   "execution_count": 4,
   "id": "ad284ebc",
   "metadata": {},
   "outputs": [],
   "source": [
    "limit = 3000000\n",
    "city_owned_api_endpoint = \"https://data.cityofchicago.org/resource/aksk-kvfp.json\"\n",
    "properties_api_endpoint = \"https://datacatalog.cookcountyil.gov/resource/c49d-89sn.json\"\n",
    "assessments_api_endpoint = \"https://datacatalog.cookcountyil.gov/resource/tnes-dgyi.json\""
   ]
  },
  {
   "cell_type": "code",
   "execution_count": 5,
   "id": "9a60d58a",
   "metadata": {},
   "outputs": [],
   "source": [
    "# fetch data from the City-Owned Land Inventory dataset about all properties currently owned by the City of Chicago that might be up for sale (see http://dev.cityofchicago.org/open%20data/data%20portal/2020/08/11/city-owned-property.html)\n",
    "city_owned = makeAPIRequest(\n",
    "    api_endpoint = city_owned_api_endpoint,\n",
    "    params = [\n",
    "        \"$select=pin, managing_organization, lower(property_status) AS property_status, date_of_acquisition, date_of_disposition, sq_ft, last_update, :created_at, :updated_at\",\n",
    "        \"$where=(lower(property_status)='owned by city') AND (lower(managing_organization)='none' OR managing_organization IS NULL)\",\n",
    "    ],\n",
    "    limit = limit,\n",
    "    read_function = pd.read_json,\n",
    ")\n",
    "\n",
    "# when this dataset was last updated\n",
    "city_owned_last_updated = getLastUpdated(\n",
    "    api_endpoint = city_owned_api_endpoint,\n",
    "    read_function = pd.read_json,\n",
    ")"
   ]
  },
  {
   "cell_type": "code",
   "execution_count": 6,
   "id": "5d6dc64c",
   "metadata": {},
   "outputs": [],
   "source": [
    "# fetch data from the Property Locations dataset about all properties in Wards 1-50\n",
    "properties = makeAPIRequest(\n",
    "    api_endpoint = properties_api_endpoint,\n",
    "    params = [\n",
    "        \"$select=pin, property_address, property_zip, ward, longitude, latitude, tract_geoid, tract_pop, tract_midincome, tract_white_perc, tract_black_perc, tract_asian_perc, tract_his_perc, tract_other_perc\",\n",
    "        \"$where=ward between '0' and '50'\",\n",
    "    ],\n",
    "    limit = limit,\n",
    "    read_function = pd.read_json,\n",
    ")\n",
    "\n",
    "# when this dataset was last updated\n",
    "properties_last_updated = getLastUpdated(\n",
    "    api_endpoint = properties_api_endpoint,\n",
    "    read_function = pd.read_json,\n",
    ")"
   ]
  },
  {
   "cell_type": "code",
   "execution_count": 7,
   "id": "d7d923a2",
   "metadata": {},
   "outputs": [],
   "source": [
    "# fetch data from the Cook County Property Assessments dataset about 2020 Board of Review \n",
    "assessments = makeAPIRequest(\n",
    "    api_endpoint = assessments_api_endpoint,\n",
    "    params = [\n",
    "        \"$select=distinct pin, bor_result AS total_assessed_value_2020_board_of_review_certified\",\n",
    "        \"$where=year=2020\",\n",
    "    ],\n",
    "    limit = limit,\n",
    "    read_function = pd.read_json,\n",
    ")\n",
    "\n",
    "# when this dataset was last updated\n",
    "assessments_last_updated = getLastUpdated(\n",
    "    api_endpoint = assessments_api_endpoint,\n",
    "    read_function = pd.read_json,\n",
    ")"
   ]
  },
  {
   "cell_type": "code",
   "execution_count": 8,
   "id": "ba5abfd5",
   "metadata": {},
   "outputs": [],
   "source": [
    "# Sunshine Gospel Ministries address (source: https://www.sunshinegospel.org/)\n",
    "sgmAddress = \"500 E 61st St\".lower() # source: https://www.sunshinegospel.org/\n",
    "# get location data for Sunshine Gospel Ministries\n",
    "sgm = makeAPIRequest(\n",
    "    api_endpoint = \"https://datacatalog.cookcountyil.gov/resource/c49d-89sn.json\",\n",
    "    params = [\n",
    "        \"$select=pin, property_address, property_zip, ward, longitude, latitude, :created_at, :updated_at\",\n",
    "        f\"$where=lower(property_address)='{sgmAddress}'\",\n",
    "    ],\n",
    "    limit = 1,\n",
    "    read_function = pd.read_json,\n",
    ").loc[0]"
   ]
  },
  {
   "cell_type": "code",
   "execution_count": 9,
   "id": "f44bb45b",
   "metadata": {},
   "outputs": [],
   "source": [
    "# Generate attribution string that gives the URLs and the access date and time for the data sources.\n",
    "fetchtime = datetime.datetime.now(datetime.timezone.utc).strftime(\"%d %B %Y at roughly %H:%M UTC\")"
   ]
  },
  {
   "cell_type": "code",
   "execution_count": 10,
   "id": "cce765aa",
   "metadata": {},
   "outputs": [],
   "source": [
    "attribution = f\"/* Data sources: https://data.cityofchicago.org/Community-Economic-Development/City-Owned-Land-Inventory/aksk-kvfp (last updated at {city_owned_last_updated}), https://datacatalog.cookcountyil.gov/Property-Taxation/Assessor-Archived-05-11-2022-Property-Locations/c49d-89sn (last updated at {properties_last_updated}), and https://datacatalog.cookcountyil.gov/Finance-Administration/Assessor-Archived-05-11-2022-Cook-County-Property-/tnes-dgyi (last updated at {properties_last_updated}), accessed on {fetchtime}. */\""
   ]
  },
  {
   "cell_type": "code",
   "execution_count": 11,
   "id": "47746bde",
   "metadata": {
    "scrolled": false
   },
   "outputs": [],
   "source": [
    "# prepare to compute the inner join of these two datasets by standardizing the PIN format\n",
    "city_owned[\"pin\"] = city_owned[\"pin\"].str.replace(\"-\",\"\")\n",
    "properties[\"pin\"] = properties[\"pin\"].apply(str)\n",
    "assessments[\"pin\"] = assessments[\"pin\"].str.replace(\"-\",\"\")"
   ]
  },
  {
   "cell_type": "code",
   "execution_count": 12,
   "id": "13db2e17",
   "metadata": {},
   "outputs": [],
   "source": [
    "# check for duplicate entries\n",
    "for df in [city_owned, properties, assessments]:\n",
    "    assert df.shape[0] == df[\"pin\"].unique().shape[0]"
   ]
  },
  {
   "cell_type": "code",
   "execution_count": 14,
   "id": "3205e44d",
   "metadata": {},
   "outputs": [],
   "source": [
    "# compute the inner join\n",
    "partial_join = pd.merge(city_owned, properties, how=\"inner\", on=\"pin\", suffixes = [\"_aksk-kvfp\", \"_c49d-89sn\"])\n",
    "final_join = pd.merge(partial_join, assessments, how=\"inner\", on=\"pin\")"
   ]
  },
  {
   "cell_type": "code",
   "execution_count": 20,
   "id": "29da178a",
   "metadata": {},
   "outputs": [
    {
     "name": "stdout",
     "output_type": "stream",
     "text": [
      "0.9818879692935109\n"
     ]
    },
    {
     "data": {
      "text/plain": [
       "0        8186\n",
       "2275        5\n",
       "3701        3\n",
       "5615        2\n",
       "5500        2\n",
       "         ... \n",
       "12817       1\n",
       "30636       1\n",
       "1950        1\n",
       "2424        1\n",
       "1577        1\n",
       "Name: total_assessed_value_2020_board_of_review_certified, Length: 137, dtype: int64"
      ]
     },
     "execution_count": 20,
     "metadata": {},
     "output_type": "execute_result"
    }
   ],
   "source": [
    "print(8186/final_join.shape[0])\n",
    "final_join['total_assessed_value_2020_board_of_review_certified'].value_counts(dropna=False)"
   ]
  },
  {
   "cell_type": "code",
   "execution_count": null,
   "id": "b3ea53b1",
   "metadata": {},
   "outputs": [],
   "source": [
    "final_join = final_join.set_index(\"pin\").rename(columns = {\n",
    "    \"last_update\" : \"last_update_aksk-kvfp\",\n",
    "})"
   ]
  },
  {
   "cell_type": "code",
   "execution_count": 13,
   "id": "8a17d1ec",
   "metadata": {},
   "outputs": [],
   "source": [
    "# output data to \"data.js\"\n",
    "with open(\"data.js\", \"w\", encoding=\"utf-8\") as f:\n",
    "    f.write(attribution) # include attribution\n",
    "    f.write(f\"\\n\\nconst accessDateTime = \\\"{fetchtime}\\\";\")\n",
    "    f.write(\"\\n\\nconst sunshineGospel = \") # assign sgm JSON data to variable for easier access by JavaScript scripts in browser\n",
    "    f.write(sgm.to_json(orient=\"index\") + \";\") # output sgm as JSON\n",
    "    f.write(\"\\n\\nconst data = \") # assign join JSON data to variable for easier access by JavaScript scripts in browser\n",
    "    f.write(final_join.to_json(orient=\"index\") + \";\") # output join as JSON"
   ]
  },
  {
   "cell_type": "code",
   "execution_count": 14,
   "id": "c339c9d1",
   "metadata": {},
   "outputs": [],
   "source": [
    "# export select columns of data to Excel\n",
    "pins = final_join.reset_index().filter(items=[\n",
    "    \"pin\",\n",
    "    \"property_address\",\n",
    "    \"ward\",\n",
    "    \"property_status\",\n",
    "    \"managing_organization\",\n",
    "    \"date_of_acquisition\",\n",
    "    \"date_of_disposition\",\n",
    "    \"last_update_aksk-kvfp\",\n",
    "    \"tract_geoid\",\n",
    "]).rename(columns = {\n",
    "    \"last_update_aksk-kvfp\" : \"last_update\",\n",
    "})\n",
    "pins.to_excel(\"city_owned_pins.xlsx\", index=False)"
   ]
  },
  {
   "cell_type": "code",
   "execution_count": null,
   "id": "658eb18d",
   "metadata": {},
   "outputs": [],
   "source": []
  }
 ],
 "metadata": {
  "kernelspec": {
   "display_name": "Python 3 (ipykernel)",
   "language": "python",
   "name": "python3"
  },
  "language_info": {
   "codemirror_mode": {
    "name": "ipython",
    "version": 3
   },
   "file_extension": ".py",
   "mimetype": "text/x-python",
   "name": "python",
   "nbconvert_exporter": "python",
   "pygments_lexer": "ipython3",
   "version": "3.8.13"
  }
 },
 "nbformat": 4,
 "nbformat_minor": 5
}
