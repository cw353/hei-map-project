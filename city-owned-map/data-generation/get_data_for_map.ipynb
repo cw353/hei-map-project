{
 "cells": [
  {
   "cell_type": "code",
   "execution_count": 1,
   "id": "653ea5a6",
   "metadata": {},
   "outputs": [],
   "source": [
    "# Author: Claire Wagner\n",
    "# Date: 15 June 2022\n",
    "# Purpose: To generate data about city-owned PINs."
   ]
  },
  {
   "cell_type": "code",
   "execution_count": 2,
   "id": "d447d090",
   "metadata": {},
   "outputs": [],
   "source": [
    "import pandas as pd\n",
    "import urllib.parse\n",
    "import datetime"
   ]
  },
  {
   "cell_type": "code",
   "execution_count": 3,
   "id": "6c476c93",
   "metadata": {},
   "outputs": [],
   "source": [
    "def makeAPIRequest(api_endpoint, params, limit, read_function):\n",
    "    \"\"\"Helper function to make Socrata API request.\"\"\"\n",
    "    query = \"?\" + \"&\".join(params) + \"&$limit=\" + str(limit)\n",
    "    return read_function(api_endpoint + urllib.parse.quote(query, safe=\"&?$=,!()\"))\n",
    "\n",
    "def getLastUpdated(api_endpoint, read_function):\n",
    "    return makeAPIRequest(\n",
    "        api_endpoint = api_endpoint,\n",
    "        params = [ \"$select=max(:updated_at) AS last_updated\" ],\n",
    "        limit = 1,\n",
    "        read_function = pd.read_json,\n",
    "    ).loc[0, 'last_updated']"
   ]
  },
  {
   "cell_type": "code",
   "execution_count": 4,
   "id": "ad284ebc",
   "metadata": {},
   "outputs": [],
   "source": [
    "limit = 3000000\n",
    "city_owned_api_endpoint = \"https://data.cityofchicago.org/resource/aksk-kvfp.json\"\n",
    "properties_api_endpoint = \"https://datacatalog.cookcountyil.gov/resource/c49d-89sn.json\""
   ]
  },
  {
   "cell_type": "code",
   "execution_count": 5,
   "id": "9a60d58a",
   "metadata": {},
   "outputs": [],
   "source": [
    "# fetch data from the City-Owned Land Inventory dataset about all properties currently owned by the City of Chicago that might be up for sale (see http://dev.cityofchicago.org/open%20data/data%20portal/2020/08/11/city-owned-property.html)\n",
    "city_owned = makeAPIRequest(\n",
    "    api_endpoint = city_owned_api_endpoint,\n",
    "    params = [\n",
    "        \"$select=pin, managing_organization, lower(property_status) AS property_status, date_of_acquisition, date_of_disposition, sq_ft, last_update\",\n",
    "        \"$where=(lower(property_status)='owned by city') AND (lower(managing_organization)='none' OR managing_organization IS NULL)\",\n",
    "    ],\n",
    "    limit = limit,\n",
    "    read_function = pd.read_json,\n",
    ")"
   ]
  },
  {
   "cell_type": "code",
   "execution_count": 6,
   "id": "0674c5a8",
   "metadata": {},
   "outputs": [],
   "source": [
    "#datetime.datetime.fromisoformat(city_owned_last_updated.split('T')[0]).strftime(\"%d %B %Y\")"
   ]
  },
  {
   "cell_type": "code",
   "execution_count": 7,
   "id": "5d6dc64c",
   "metadata": {},
   "outputs": [],
   "source": [
    "# fetch data from the Property Locations dataset about all properties in Wards 1-50\n",
    "properties = makeAPIRequest(\n",
    "    api_endpoint = properties_api_endpoint,\n",
    "    params = [\n",
    "        \"$select=pin, property_address, property_zip, ward, longitude, latitude, tract_geoid\",\n",
    "    ],\n",
    "    limit = limit,\n",
    "    read_function = pd.read_json,\n",
    ")"
   ]
  },
  {
   "cell_type": "code",
   "execution_count": 8,
   "id": "ba5abfd5",
   "metadata": {},
   "outputs": [],
   "source": [
    "# Sunshine Gospel Ministries address (source: https://www.sunshinegospel.org/)\n",
    "sgmAddress = \"500 E 61st St\".lower() # source: https://www.sunshinegospel.org/\n",
    "# get location data for Sunshine Gospel Ministries\n",
    "sgm = makeAPIRequest(\n",
    "    api_endpoint = \"https://datacatalog.cookcountyil.gov/resource/c49d-89sn.json\",\n",
    "    params = [\n",
    "        \"$select=pin, longitude, latitude\",\n",
    "        f\"$where=lower(property_address)='{sgmAddress}'\",\n",
    "    ],\n",
    "    limit = 1,\n",
    "    read_function = pd.read_json,\n",
    ").loc[0]"
   ]
  },
  {
   "cell_type": "code",
   "execution_count": 9,
   "id": "04845f18",
   "metadata": {},
   "outputs": [],
   "source": [
    "# when datasets were last updated\n",
    "city_owned_last_updated = getLastUpdated(\n",
    "    api_endpoint = city_owned_api_endpoint,\n",
    "    read_function = pd.read_json,\n",
    ")\n",
    "properties_last_updated = getLastUpdated(\n",
    "    api_endpoint = properties_api_endpoint,\n",
    "    read_function = pd.read_json,\n",
    ")"
   ]
  },
  {
   "cell_type": "code",
   "execution_count": 10,
   "id": "f44bb45b",
   "metadata": {},
   "outputs": [],
   "source": [
    "# Generate attribution string that gives the URLs and the access date and time for the data sources.\n",
    "fetchtime = datetime.datetime.now(datetime.timezone.utc).strftime(\"%d %B %Y at roughly %H:%M UTC\")"
   ]
  },
  {
   "cell_type": "code",
   "execution_count": 11,
   "id": "cce765aa",
   "metadata": {},
   "outputs": [],
   "source": [
    "attribution = f\"/* Data sources: https://data.cityofchicago.org/Community-Economic-Development/City-Owned-Land-Inventory/aksk-kvfp (last updated at {city_owned_last_updated}) and https://datacatalog.cookcountyil.gov/Property-Taxation/Assessor-Archived-05-11-2022-Property-Locations/c49d-89sn (last updated at {properties_last_updated}), accessed on {fetchtime}. */\""
   ]
  },
  {
   "cell_type": "code",
   "execution_count": 12,
   "id": "47746bde",
   "metadata": {
    "scrolled": true
   },
   "outputs": [],
   "source": [
    "# prepare to compute the inner join of these two datasets by standardizing the PIN format (convert to string, remove '-', left-pad with zeros)\n",
    "city_owned[\"pin\"] = city_owned[\"pin\"].str.replace(\"-\",\"\") \n",
    "properties[\"pin\"] = properties[\"pin\"].apply(str).str.rjust(14, '0')"
   ]
  },
  {
   "cell_type": "code",
   "execution_count": 13,
   "id": "a2be4216",
   "metadata": {},
   "outputs": [],
   "source": [
    "# compute the inner join\n",
    "city_owned_join = pd.merge(city_owned, properties, how=\"inner\", on=\"pin\", suffixes = [\"_aksk-kvfp\", \"_c49d-89sn\"])"
   ]
  },
  {
   "cell_type": "code",
   "execution_count": 14,
   "id": "82e2f779",
   "metadata": {},
   "outputs": [
    {
     "data": {
      "text/plain": [
       "6"
      ]
     },
     "execution_count": 14,
     "metadata": {},
     "output_type": "execute_result"
    }
   ],
   "source": [
    "# number of city-owned properties for which no location data from properties could be found\n",
    "city_owned.shape[0] - city_owned_join.shape[0]"
   ]
  },
  {
   "cell_type": "code",
   "execution_count": 15,
   "id": "c85350be",
   "metadata": {},
   "outputs": [],
   "source": [
    "city_owned_join.filter(items=[\n",
    "    \"pin\",\n",
    "    \"managing_organization\",\n",
    "    \"property_status\",\n",
    "    \"last_update\",\n",
    "    \"date_of_acquisition\",\n",
    "    \"date_of_disposition\",\n",
    "    \"property_address\",\n",
    "    \"property_zip\",\n",
    "    \"ward\",\n",
    "    \"tract_geoid\",\n",
    "]).to_excel(\"city_owned_pins_possibly_for_sale.xlsx\", index=False)"
   ]
  },
  {
   "cell_type": "code",
   "execution_count": 16,
   "id": "3205e44d",
   "metadata": {},
   "outputs": [],
   "source": [
    "city_owned_join = city_owned_join.set_index(\"pin\", drop=False)"
   ]
  },
  {
   "cell_type": "code",
   "execution_count": 17,
   "id": "8a17d1ec",
   "metadata": {},
   "outputs": [],
   "source": [
    "# output data to \"data.js\"\n",
    "with open(\"../data/city-owned/city_owned_data.js\", \"w\", encoding=\"utf-8\") as f:\n",
    "    f.write(attribution) # include attribution\n",
    "    f.write(f\"\\n\\nconst accessDateTime = \\\"{fetchtime}\\\";\")\n",
    "    f.write(\"\\n\\nconst sunshineGospel = \") # assign sgm JSON data to variable for easier access by JavaScript scripts in browser\n",
    "    f.write(sgm.to_json(orient=\"index\") + \";\") # output sgm as JSON\n",
    "    f.write(\"\\n\\nconst city_owned_data = \") # assign join JSON data to variable for easier access by JavaScript scripts in browser\n",
    "    f.write(city_owned_join.to_json(orient=\"index\") + \";\") # output as JSON"
   ]
  },
  {
   "cell_type": "code",
   "execution_count": 19,
   "id": "4f3d4740",
   "metadata": {},
   "outputs": [],
   "source": [
    "# scavenger sale data from 28 January 2022 (source: https://web.archive.org/web/20220128184252/https://www.cookcountytreasurer.com/pdfs/scavsale/2022cookcountyscavengertaxsalelist.xlsx, accessed 3 June 2022)\n",
    "scavenger = pd.read_excel(\"../data/scavenger-sale/2022cookcountyscavengertaxsalelist_1-28-22.xlsx\")"
   ]
  },
  {
   "cell_type": "code",
   "execution_count": 4,
   "id": "cea5771d",
   "metadata": {},
   "outputs": [],
   "source": [
    "# standardize columns and PIN and classification formats\n",
    "def standardize_columns(df):\n",
    "    \"\"\"standardize the names of all columns in df by making them lowercase and snake_case\"\"\"\n",
    "    df.columns = df.columns.str.lower().str.split().str.join('_')"
   ]
  },
  {
   "cell_type": "code",
   "execution_count": null,
   "id": "523c5e4a",
   "metadata": {},
   "outputs": [],
   "source": [
    "standardize_columns(scavenger)\n",
    "scavenger[\"pin\"] = scavenger[\"pin\"].str.replace(\"-\", \"\")\n",
    "scavenger[\"classification\"] = scavenger[\"classification\"].str.strip()"
   ]
  },
  {
   "cell_type": "code",
   "execution_count": 21,
   "id": "15518612",
   "metadata": {},
   "outputs": [],
   "source": [
    "# property class data (source: https://www.cookcountyassessor.com/form-document/codes-classification-property, accessed 21 June 2022)\n",
    "property_classes = pd.read_excel(\"../data/scavenger-sale/property_classes.xlsx\")"
   ]
  },
  {
   "cell_type": "code",
   "execution_count": 73,
   "id": "7a550a2d",
   "metadata": {},
   "outputs": [],
   "source": [
    "# join scavenger sale data with property class data\n",
    "scavenger_with_property_classes = pd.merge(scavenger, property_classes, how=\"left\", left_on = \"classification\", right_on=\"property_code\").drop(columns=['classification'])"
   ]
  },
  {
   "cell_type": "code",
   "execution_count": 74,
   "id": "241ab8a5",
   "metadata": {},
   "outputs": [],
   "source": [
    "# make sure all scavenger sale entries have associated property class data\n",
    "assert scavenger_with_property_classes[pd.isna(scavenger_with_property_classes['property_code'])].shape[0] == 0"
   ]
  },
  {
   "cell_type": "code",
   "execution_count": 75,
   "id": "3f92bcb6",
   "metadata": {},
   "outputs": [],
   "source": [
    "# get location data for pins on scavenger sale list\n",
    "scavenger_final_join = pd.merge(scavenger_with_property_classes, properties, how=\"inner\", on=\"pin\", suffixes=[\"_scavenger_sale\", \"_c49d-89sn\"])"
   ]
  },
  {
   "cell_type": "code",
   "execution_count": 76,
   "id": "568af38f",
   "metadata": {},
   "outputs": [],
   "source": [
    "# make sure all pins on scavenger sale list have associated location data\n",
    "assert scavenger_final_join.shape[0] == scavenger_with_property_classes.shape[0]"
   ]
  },
  {
   "cell_type": "code",
   "execution_count": 77,
   "id": "66a660a3",
   "metadata": {},
   "outputs": [],
   "source": [
    "scavenger_final_join = scavenger_final_join[scavenger_final_join['property_city'] == 'CHICAGO'].filter(items = [\n",
    "    'pin',\n",
    "    'property_address_scavenger_sale',\n",
    "    'ward',\n",
    "    'delinquent_tax_year_range',\n",
    "    'delinquent_tax',\n",
    "    'delinquent_interest',\n",
    "    'total_delinquency',\n",
    "    '2020_taxes_billed',\n",
    "    'property_code',\n",
    "    'property_code_meaning',\n",
    "    'property_code_class',\n",
    "    'property_zip',\n",
    "    'longitude',\n",
    "    'latitude',\n",
    "    'tract_geoid',\n",
    "    'tract_pop',\n",
    "    'tract_midincome',\n",
    "    'tract_white_perc',\n",
    "    'tract_black_perc',\n",
    "    'tract_asian_perc',\n",
    "    'tract_his_perc',\n",
    "    'tract_other_perc',\n",
    "]).rename(columns = {\n",
    "    'property_address_scavenger_sale' : 'property_address',\n",
    "}).set_index('pin', drop=False)"
   ]
  },
  {
   "cell_type": "code",
   "execution_count": 79,
   "id": "93f06466",
   "metadata": {},
   "outputs": [],
   "source": [
    "scavenger_data_attribution = f\"/* PINs on the scavenger tax sale list where 'property_city' == 'CHICAGO'. Data sources: https://web.archive.org/web/20220128184252/https://www.cookcountytreasurer.com/pdfs/scavsale/2022cookcountyscavengertaxsalelist.xlsx (archived on 28 January 2022, accessed on 3 June 2022), https://datacatalog.cookcountyil.gov/Property-Taxation/Assessor-Archived-05-11-2022-Property-Locations/c49d-89sn (last updated at {properties_last_updated}, accessed on {fetchtime}), and https://www.cookcountyassessor.com/form-document/codes-classification-property (accessed 22 June 2022). */\""
   ]
  },
  {
   "cell_type": "code",
   "execution_count": 80,
   "id": "dbcf5101",
   "metadata": {},
   "outputs": [],
   "source": [
    "# make sure there are no duplicated entries for pins\n",
    "assert scavenger_final_join.index.unique().shape[0] == scavenger_final_join.index.shape[0]"
   ]
  },
  {
   "cell_type": "code",
   "execution_count": 81,
   "id": "858d46a6",
   "metadata": {},
   "outputs": [],
   "source": [
    "# output data to \"scavenger_data.js\"\n",
    "with open(\"../data/scavenger-sale/scavenger_data.js\", \"w\", encoding=\"utf-8\") as f:\n",
    "    f.write(scavenger_data_attribution) # include attribution\n",
    "    f.write(\"\\n\\nconst scavenger_sale_data = \") # assign join JSON data to variable for easier access by JavaScript scripts in browser\n",
    "    f.write(scavenger_final_join.to_json(orient=\"index\") + \";\") # output as JSON"
   ]
  },
  {
   "cell_type": "code",
   "execution_count": 2,
   "id": "954745a2",
   "metadata": {},
   "outputs": [],
   "source": [
    "# Ward 20 Properties on Tax Sale list for Tax Year 2019, accessed on 17 May 2022 around 11 am ET\n",
    "taxsale = pd.read_excel(\"../data/tax-sale/tax_sale_tax_year_2019_ward20_accessed_17_May_2022.xlsx\")"
   ]
  },
  {
   "cell_type": "code",
   "execution_count": 5,
   "id": "10c654e4",
   "metadata": {},
   "outputs": [],
   "source": [
    "standardize_columns(taxsale)\n",
    "taxsale['pin'] = taxsale['pin'].str.replace('-', '')\n",
    "taxsale = taxsale.filter(items=[\n",
    "    'pin',\n",
    "    'property_address',\n",
    "    'current_mailing_address',\n",
    "    'taxpayer_name',\n",
    "    'tax_type',\n",
    "    'tax_year',\n",
    "    'total_tax_due',\n",
    "    'total_due_(including_interest)',\n",
    "    'classification',\n",
    "    'prior_tax_years_may_also_be_unpaid',\n",
    "])\n",
    "taxsale = taxsale[taxsale['tax_year'] == 2019]"
   ]
  },
  {
   "cell_type": "code",
   "execution_count": 6,
   "id": "23e0b4a8",
   "metadata": {},
   "outputs": [],
   "source": [
    "# make sure no entries have duplicate pins\n",
    "assert taxsale['pin'].shape[0] == taxsale['pin'].unique().shape[0]"
   ]
  },
  {
   "cell_type": "code",
   "execution_count": 97,
   "id": "dcfbc7e2",
   "metadata": {},
   "outputs": [],
   "source": [
    "taxsale_join = pd.merge(taxsale, properties, how=\"inner\", on=\"pin\", suffixes=[\"_tax_sale\", \"_c49d-89sn\"])"
   ]
  },
  {
   "cell_type": "code",
   "execution_count": 98,
   "id": "971f6ba7",
   "metadata": {},
   "outputs": [],
   "source": [
    "# make sure all pins have associated location data and are in Ward 20\n",
    "assert taxsale_join.shape[0] == taxsale.shape[0]\n",
    "assert taxsale_join.shape[0] == taxsale_join[taxsale_join['ward'] == 20].shape[0]"
   ]
  },
  {
   "cell_type": "code",
   "execution_count": 99,
   "id": "63964bca",
   "metadata": {},
   "outputs": [],
   "source": [
    "taxsale_join = taxsale_join.drop(columns=[\n",
    "    'property_address_c49d-89sn',\n",
    "]).rename(columns={\n",
    "    'property_address_tax_sale' : 'property_address',\n",
    "    'total_due_(including_interest)' : 'total_due_including_interest',\n",
    "}).set_index('pin', drop=False)"
   ]
  },
  {
   "cell_type": "code",
   "execution_count": 101,
   "id": "dc098d4b",
   "metadata": {},
   "outputs": [],
   "source": [
    "taxsale_data_attribution = f\"/* PINs in Ward 20 on the tax sale list with tax owed for tax year 2019. Data sources: https://www.cookcountytreasurer.com/delinquenttaxes.aspx (accessed on 17 May 2022 around 11 am ET) and https://datacatalog.cookcountyil.gov/Property-Taxation/Assessor-Archived-05-11-2022-Property-Locations/c49d-89sn (last updated at {properties_last_updated}, accessed on {fetchtime}). */\""
   ]
  },
  {
   "cell_type": "code",
   "execution_count": 102,
   "id": "b854d80d",
   "metadata": {},
   "outputs": [],
   "source": [
    "# output data to \"scavenger_data.js\"\n",
    "with open(\"../data/tax-sale/tax_sale_ward20_tax_year_2019.js\", \"w\", encoding=\"utf-8\") as f:\n",
    "    f.write(taxsale_data_attribution) # include attribution\n",
    "    f.write(\"\\n\\nconst taxsale_ward20_data = \") # assign JSON data to variable for easier access by JavaScript scripts in browser\n",
    "    f.write(taxsale_join.to_json(orient=\"index\") + \";\") # output as JSON"
   ]
  },
  {
   "cell_type": "code",
   "execution_count": null,
   "id": "1a0f6671",
   "metadata": {},
   "outputs": [],
   "source": []
  }
 ],
 "metadata": {
  "kernelspec": {
   "display_name": "Python 3 (ipykernel)",
   "language": "python",
   "name": "python3"
  },
  "language_info": {
   "codemirror_mode": {
    "name": "ipython",
    "version": 3
   },
   "file_extension": ".py",
   "mimetype": "text/x-python",
   "name": "python",
   "nbconvert_exporter": "python",
   "pygments_lexer": "ipython3",
   "version": "3.8.13"
  }
 },
 "nbformat": 4,
 "nbformat_minor": 5
}
